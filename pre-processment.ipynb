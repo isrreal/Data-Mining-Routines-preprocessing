{
 "cells": [
  {
   "cell_type": "markdown",
   "metadata": {},
   "source": [
    "# QXD0178 - Mineração de Dados\n",
    "\n",
    "## Preparação da base de dados\n",
    "\n",
    "#### Aluno: Israel Souza Ferreira\n",
    "\n",
    "Este exercício utiliza a base de dados [Food choices: College students' food and cooking preferences](https://www.kaggle.com/datasets/borapajo/food-choices?select=food_coded.csv]) que contém informações sobre hábitos alimentares de um conjunto de estudantes. Este conjunto de dados possui valores ausentes em várias colunas."
   ]
  },
  {
   "cell_type": "markdown",
   "metadata": {},
   "source": [
    "## Código inicial\n"
   ]
  },
  {
   "cell_type": "markdown",
   "metadata": {},
   "source": [
    "### Imports"
   ]
  },
  {
   "cell_type": "code",
   "execution_count": null,
   "metadata": {},
   "outputs": [],
   "source": [
    "import pandas\n",
    "import numpy "
   ]
  },
  {
   "cell_type": "markdown",
   "metadata": {},
   "source": [
    "### Funções"
   ]
  },
  {
   "cell_type": "code",
   "execution_count": null,
   "metadata": {},
   "outputs": [],
   "source": [
    "def parse_int(value):\n",
    "    try:\n",
    "        return int(value)\n",
    "    except ValueError:\n",
    "        return numpy.nan\n",
    "    \n",
    "\n",
    "def parse_float(value):\n",
    "    try:\n",
    "        return float(value)\n",
    "    except ValueError:\n",
    "        return numpy.nan\n",
    "\n",
    "def to_calories_scone(value):\n",
    "    if value == 107:\n",
    "        return 1\n",
    "    elif value == 315:\n",
    "        return 2\n",
    "    elif value == 420:\n",
    "        return 3\n",
    "    elif value == 980:\n",
    "        return 4\n",
    "    else: \n",
    "        return numpy.nan\n",
    "    \n",
    "def to_tortilla_calories(value):\n",
    "    if value == 580:\n",
    "        return 1\n",
    "    elif value == 725:\n",
    "        return 2\n",
    "    elif value == 940:\n",
    "        return 3\n",
    "    elif value == 1165:\n",
    "        return 4\n",
    "    else: \n",
    "        return numpy.nan\n",
    "\n",
    "def to_turkey_calories(value):\n",
    "    if value == 345:\n",
    "        return 1\n",
    "    elif value == 500:\n",
    "        return 2\n",
    "    elif value == 690:\n",
    "        return 3\n",
    "    elif value == 850:\n",
    "        return 4\n",
    "    else: \n",
    "        return numpy.nan\n",
    "    \n",
    "def to_waffle_calories(value):\n",
    "    if value == 575:\n",
    "        return 1\n",
    "    elif value == 760:\n",
    "        return 2\n",
    "    elif value == 900:\n",
    "        return 3\n",
    "    elif value == 1315:\n",
    "        return 4\n",
    "    else: \n",
    "        return numpy.nan\n",
    "\n",
    "def to_calories_chicken(value):\n",
    "    if value == 265:\n",
    "        return 1\n",
    "    elif value == 760:\n",
    "        return 2\n",
    "    elif value == 610:\n",
    "        return 3\n",
    "    elif value == 720:\n",
    "        return 4\n",
    "    else: \n",
    "        return numpy.nan       \n"
   ]
  },
  {
   "cell_type": "markdown",
   "metadata": {},
   "source": [
    "#### Instanciação da base de dados"
   ]
  },
  {
   "cell_type": "code",
   "execution_count": null,
   "metadata": {},
   "outputs": [],
   "source": [
    "dataframe = pandas.read_csv(\"https://raw.githubusercontent.com/She-Codes-Now/Intro-to-Data-Science-with-R/master/food_coded.csv\")"
   ]
  },
  {
   "cell_type": "markdown",
   "metadata": {},
   "source": [
    "#\n",
    "#\n",
    "#"
   ]
  },
  {
   "cell_type": "markdown",
   "metadata": {},
   "source": [
    "## Questões"
   ]
  },
  {
   "cell_type": "markdown",
   "metadata": {
    "jp-MarkdownHeadingCollapsed": true
   },
   "source": [
    "### 1. Identificar todas as colunas com dados faltantes.\n",
    "#\n",
    "#\n",
    "#"
   ]
  },
  {
   "cell_type": "code",
   "execution_count": null,
   "metadata": {},
   "outputs": [],
   "source": [
    "dataframe.columns[dataframe.isna().any()]"
   ]
  },
  {
   "cell_type": "markdown",
   "metadata": {},
   "source": [
    "#\n",
    "#\n",
    "#"
   ]
  },
  {
   "cell_type": "markdown",
   "metadata": {
    "jp-MarkdownHeadingCollapsed": true
   },
   "source": [
    "### 2. Escolha da estratégia apropriada para tratar cada tipo de dado faltante.\n",
    "#\n",
    "#\n",
    "#"
   ]
  },
  {
   "cell_type": "markdown",
   "metadata": {},
   "source": [
    "### Ajuste do atributo: GPA\n",
    "\n",
    "estratégia utilizada:\n",
    "\n",
    "imputação por mediana dos valores objetos da mesma classe para não ter alterações por possíveis outliers já que é um atributo numérico contínuo."
   ]
  },
  {
   "cell_type": "code",
   "execution_count": null,
   "metadata": {},
   "outputs": [],
   "source": [
    "dataframe['GPA'] = dataframe['GPA'].apply(parse_float) \n",
    "dataframe['GPA'].fillna(dataframe['GPA'].median(), inplace = True)"
   ]
  },
  {
   "cell_type": "markdown",
   "metadata": {},
   "source": [
    "### Ajuste do atributo: calories_day\n",
    "\n",
    "estratégia utilizada:\n",
    "\n",
    "conversão para inteiro, para poupar armazenamento.\n",
    "\n",
    "imputação por média dos valores objetos da mesma classe, pois, por ser um atributo numérico discreto, quase não considera-se possíveis outliers.\n",
    "\n",
    "escolha incentivada também pela visão completa dos conjunto de dados e pela relativa grande extensão das possibilidades de atributos.\n",
    "    \n"
   ]
  },
  {
   "cell_type": "code",
   "execution_count": null,
   "metadata": {},
   "outputs": [],
   "source": [
    "\n",
    "dataframe['calories_day'] = dataframe['calories_day'].apply(parse_int)\n",
    "dataframe['calories_day'].fillna(dataframe['calories_day'].mean(), inplace = True)\n"
   ]
  },
  {
   "cell_type": "markdown",
   "metadata": {},
   "source": [
    "### Ajuste do atributo: calories_scone\n",
    "\n",
    "\n",
    "estratégia utilizada:\n",
    "\n",
    "conversão para inteiro, para poupar armazenamento.\n",
    "\n",
    "imputação por média dos valores objetos da mesma classe, pois, por ser um atributo numérico discreto, quase não considera-se possíveis outliers.\n",
    "\n",
    "escolha incentivada também pela visão completa dos conjunto de dados e pela relativa grande extensão das possibilidades de atributos.\n",
    "\n",
    "    \n",
    "       "
   ]
  },
  {
   "cell_type": "code",
   "execution_count": null,
   "metadata": {},
   "outputs": [],
   "source": [
    "dataframe['calories_scone'] = dataframe['calories_scone'].apply(parse_int)\n",
    "dataframe['calories_scone'].fillna(dataframe['calories_scone'].mean(), inplace = True)"
   ]
  },
  {
   "cell_type": "markdown",
   "metadata": {},
   "source": [
    "### Ajuste do atributo: comfort_food\n",
    "\n",
    "estratégia utilizada:\n",
    "\n",
    "trocar todas as ocorrências de 'none' por numpy.nan e, posteriormente, aplicar um valor padrão para evitar a perda de dados.\n",
    "\n"
   ]
  },
  {
   "cell_type": "code",
   "execution_count": null,
   "metadata": {},
   "outputs": [],
   "source": [
    "dataframe['comfort_food'] = dataframe['comfort_food'].replace('none|None.|None', numpy.nan, regex = True)\n",
    "dataframe['comfort_food'].fillna('Sem resposta', inplace = True)\n"
   ]
  },
  {
   "cell_type": "markdown",
   "metadata": {},
   "source": [
    "### Ajuste do atributo: comfort_food_reasons\n",
    "\n",
    "estratégia utilizada:\n",
    "\n",
    "trocar todas as ocorrências de 'none' por numpy.nan e, posteriormente, aplicar um valor padrão para evitar a perda de dados."
   ]
  },
  {
   "cell_type": "code",
   "execution_count": null,
   "metadata": {},
   "outputs": [],
   "source": [
    "dataframe['comfort_food_reasons'] = dataframe['comfort_food_reasons'].replace('none|None.|None', numpy.nan, regex = True)\n",
    "dataframe['comfort_food_reasons'].fillna('Sem resposta', inplace = True)"
   ]
  },
  {
   "cell_type": "markdown",
   "metadata": {},
   "source": [
    "### Ajuste do atributo: comfort_food_reasons_coded\n",
    "\n",
    "\n",
    "estratégia utilizada:\n",
    "\n",
    "conversão para inteiro, para poupar armazenamento.\n",
    "\n",
    "imputação por média dos valores objetos da mesma classe, pois, por ser um atributo numérico discreto, quase não considera-se possíveis outliers.\n",
    "\n",
    "escolha incentivada também pela visão completa dos conjunto de dados e pela relativa grande extensão das possibilidades de atributos.\n",
    "\n",
    "\n"
   ]
  },
  {
   "cell_type": "code",
   "execution_count": null,
   "metadata": {},
   "outputs": [],
   "source": [
    "dataframe['comfort_food_reasons_coded'] = dataframe['comfort_food_reasons_coded'].apply(parse_int)\n",
    "dataframe['comfort_food_reasons_coded'].fillna(dataframe['comfort_food_reasons_coded'].mean(), inplace = True)\n"
   ]
  },
  {
   "cell_type": "markdown",
   "metadata": {},
   "source": [
    "### Ajuste do atributo: cook\n",
    "\n",
    "estratégia utilizada:\n",
    "\n",
    "conversão para inteiro, para poupar armazenamento.\n",
    "\n",
    "imputação por média dos valores objetos da mesma classe, pois, por ser um atributo numérico discreto, quase não considera-se possíveis outliers.\n",
    "\n",
    "escolha incentivada também pela visão completa dos conjunto de dados e pela relativa grande extensão das possibilidades de atributos.\n",
    "\n"
   ]
  },
  {
   "cell_type": "code",
   "execution_count": null,
   "metadata": {},
   "outputs": [],
   "source": [
    "dataframe['cook'] = dataframe['cook'].apply(parse_int)\n",
    "dataframe['cook'].fillna(dataframe['cook'].mean(), inplace = True)"
   ]
  },
  {
   "cell_type": "markdown",
   "metadata": {},
   "source": [
    "### Ajuste do atributo: cuisine\n",
    "\n",
    "estratégia utilizada:\n",
    "\n",
    "conversão para inteiro, para poupar armazenamento.\n",
    "\n",
    "imputação por média dos valores objetos da mesma classe, pois, por ser um atributo numérico discreto, quase não considera-se possíveis outliers.\n",
    "\n",
    "escolha incentivada também pela visão completa dos conjunto de dados e pela relativa grande extensão das possibilidades de atributos.\n",
    "\n"
   ]
  },
  {
   "cell_type": "code",
   "execution_count": null,
   "metadata": {},
   "outputs": [],
   "source": [
    "dataframe['cuisine'] = dataframe['cook'].apply(parse_int)\n",
    "dataframe['cuisine'].fillna(dataframe['cook'].mean(), inplace = True)\n"
   ]
  },
  {
   "cell_type": "markdown",
   "metadata": {},
   "source": [
    "### Ajuste do atributo: diet_current\n",
    "\n",
    "estratégia utilizada:\n",
    "\n",
    "trocar todas as ocorrências de 'none' por numpy.nan e, posteriormente, aplicar um valor padrão para evitar a perda de dados."
   ]
  },
  {
   "cell_type": "code",
   "execution_count": null,
   "metadata": {},
   "outputs": [],
   "source": [
    "dataframe['diet_current'] = dataframe['diet_current'].replace('none|None.|None', numpy.nan, regex = True)\n",
    "dataframe['diet_current'].fillna('Sem resposta', inplace = True)"
   ]
  },
  {
   "cell_type": "markdown",
   "metadata": {},
   "source": [
    "### Ajuste do atributo: diet_current_coded\n",
    "\n",
    "estratégia utilizada:\n",
    "\n",
    "conversão para inteiro, para poupar armazenamento.\n",
    "\n",
    "imputação por média dos valores objetos da mesma classe, pois, por ser um atributo numérico discreto, quase não considera-se possíveis outliers.\n",
    "\n",
    "escolha incentivada também pela visão completa dos conjunto de dados e pela relativa grande extensão das possibilidades de atributos.\n",
    "\n"
   ]
  },
  {
   "cell_type": "code",
   "execution_count": null,
   "metadata": {},
   "outputs": [],
   "source": [
    "dataframe['diet_current_coded'] = dataframe['diet_current_coded'].apply(parse_int)\n",
    "dataframe['diet_current_coded'].fillna(dataframe['diet_current_coded'].mean(), inplace = True)"
   ]
  },
  {
   "cell_type": "markdown",
   "metadata": {},
   "source": [
    "### Ajuste do atributo: drink\n",
    "\n",
    "estratégia utilizada:\n",
    "\n",
    "conversão para inteiro, para poupar armazenamento.\n",
    "\n",
    "imputação por moda dos valores objetos da mesma classe, pois possui pouca variedade de respostas.\n",
    "\n"
   ]
  },
  {
   "cell_type": "code",
   "execution_count": null,
   "metadata": {},
   "outputs": [],
   "source": [
    "dataframe['drink'] = dataframe['drink'].apply(parse_int)\n",
    "dataframe['drink'].fillna(dataframe['drink'].mode()[0], inplace = True)\n",
    "dataframe['drink'].isna().any()"
   ]
  },
  {
   "cell_type": "markdown",
   "metadata": {},
   "source": [
    "### Ajuste do atributo: eating_changes\n",
    "\n",
    "estratégia utilizada:\n",
    "\n",
    "trocar todas as ocorrências de 'none' por numpy.nan e, posteriormente, aplicar um valor padrão para evitar a perda de dados."
   ]
  },
  {
   "cell_type": "code",
   "execution_count": null,
   "metadata": {},
   "outputs": [],
   "source": [
    "dataframe['eating_changes'] = dataframe['eating_changes'].replace('none|None.|None', numpy.nan, regex = True)\n",
    "dataframe['eating_changes'].fillna('Sem resposta', inplace = True)"
   ]
  },
  {
   "cell_type": "markdown",
   "metadata": {},
   "source": [
    "### Ajuste do atributo: employment\n",
    "\n",
    "estratégia utilizada:\n",
    "\n",
    "conversão para inteiro, para poupar armazenamento.\n",
    "\n",
    "imputação por média dos valores objetos da mesma classe, pois, por ser um atributo numérico discreto, quase não considera-se possíveis outliers.\n",
    "\n",
    "escolha incentivada também pela visão completa dos conjunto de dados e pela relativa grande extensão das possibilidades de atributos.\n",
    "\n"
   ]
  },
  {
   "cell_type": "code",
   "execution_count": null,
   "metadata": {},
   "outputs": [],
   "source": [
    "dataframe['employment'] = dataframe['employment'].apply(parse_int)\n",
    "dataframe['employment'].fillna(dataframe['employment'].mean(), inplace = True)"
   ]
  },
  {
   "cell_type": "markdown",
   "metadata": {},
   "source": [
    "### Ajuste do atributo: exercise\n",
    "\n",
    "estratégia utilizada:\n",
    "\n",
    "conversão para inteiro, para poupar armazenamento.\n",
    "\n",
    "imputação por média dos valores objetos da mesma classe, pois, por ser um atributo numérico discreto, quase não considera-se possíveis outliers.\n",
    "\n",
    "escolha incentivada também pela visão completa dos conjunto de dados e pela relativa grande extensão das possibilidades de atributos.\n",
    "\n"
   ]
  },
  {
   "cell_type": "code",
   "execution_count": null,
   "metadata": {},
   "outputs": [],
   "source": [
    "dataframe['exercise'] = dataframe['exercise'].apply(parse_int)\n",
    "dataframe['exercise'].fillna(dataframe['exercise'].mean(), inplace = True)"
   ]
  },
  {
   "cell_type": "markdown",
   "metadata": {},
   "source": [
    "### Ajuste do atributo: father_education\n",
    "\n",
    "estratégia utilizada:\n",
    "\n",
    "conversão para inteiro, para poupar armazenamento.\n",
    "\n",
    "imputação por média dos valores objetos da mesma classe, pois, por ser um atributo numérico discreto, quase não considera-se possíveis outliers.\n",
    "\n",
    "escolha incentivada também pela visão completa dos conjunto de dados e pela relativa grande extensão das possibilidades de atributos.\n",
    "\n"
   ]
  },
  {
   "cell_type": "code",
   "execution_count": null,
   "metadata": {},
   "outputs": [],
   "source": [
    "dataframe['father_education'] = dataframe['father_education'].apply(parse_int)\n",
    "dataframe['father_education'].fillna(dataframe['father_education'].mean(), inplace = True)"
   ]
  },
  {
   "cell_type": "markdown",
   "metadata": {},
   "source": [
    "### Ajuste do atributo: father_profession\n",
    "\n",
    "estratégia utilizada:\n",
    "\n",
    "trocar todas as ocorrências de 'none' por numpy.nan e, posteriormente, aplicar um valor padrão para evitar a perda de dados."
   ]
  },
  {
   "cell_type": "code",
   "execution_count": null,
   "metadata": {},
   "outputs": [],
   "source": [
    "dataframe['father_profession'] = dataframe['father_profession'].replace('none|None.|None', numpy.nan, regex = True)\n",
    "dataframe['father_profession'].fillna('Sem resposta', inplace = True)"
   ]
  },
  {
   "cell_type": "markdown",
   "metadata": {},
   "source": [
    "### Ajuste do atributo: fav_cuisine\n",
    "\n",
    "estratégia utilizada:\n",
    "\n",
    "trocar todas as ocorrências de 'none' por numpy.nan e, posteriormente, aplicar um valor padrão para evitar a perda de dados"
   ]
  },
  {
   "cell_type": "code",
   "execution_count": null,
   "metadata": {},
   "outputs": [],
   "source": [
    "dataframe['fav_cuisine'] = dataframe['fav_cuisine'].replace('none|None.|None', numpy.nan, regex = True)\n",
    "dataframe['fav_cuisine'].fillna('Sem resposta', inplace = True)"
   ]
  },
  {
   "cell_type": "markdown",
   "metadata": {},
   "source": [
    "### Ajuste do atributo: fav_food\n",
    "\n",
    "estratégia utilizada:\n",
    "\n",
    "conversão para inteiro, para poupar armazenamento.\n",
    "\n",
    "imputação por moda dos valores objetos da mesma classe, pois possui pouca variedade de respostas."
   ]
  },
  {
   "cell_type": "code",
   "execution_count": null,
   "metadata": {},
   "outputs": [],
   "source": [
    "dataframe['fav_food'] = dataframe['fav_food'].apply(parse_int)\n",
    "dataframe['fav_food'].fillna(dataframe['fav_food'].mode()[0], inplace = True)"
   ]
  },
  {
   "cell_type": "markdown",
   "metadata": {},
   "source": [
    "### Ajuste do atributo: food_childhood\n",
    "\n",
    "estratégia utilizada:\n",
    "\n",
    "trocar todas as ocorrências de 'none' por numpy.nan e, posteriormente, aplicar um valor padrão para evitar a perda de dados."
   ]
  },
  {
   "cell_type": "code",
   "execution_count": null,
   "metadata": {},
   "outputs": [],
   "source": [
    "dataframe['food_childhood'] = dataframe['food_childhood'].replace('none|None.|None', numpy.nan, regex = True)\n",
    "dataframe['food_childhood'].fillna('Sem resposta', inplace = True)"
   ]
  },
  {
   "cell_type": "markdown",
   "metadata": {},
   "source": [
    "### Ajuste do atributo: healthy_meal\n",
    "\n",
    "estratégia utilizada:\n",
    "\n",
    "trocar todas as ocorrências de 'none' por numpy.nan e, posteriormente, aplicar um valor padrão para evitar a perda de dados."
   ]
  },
  {
   "cell_type": "code",
   "execution_count": null,
   "metadata": {},
   "outputs": [],
   "source": [
    "dataframe['healthy_meal'] = dataframe['healthy_meal'].replace('none|None.|None', numpy.nan, regex = True)\n",
    "dataframe['healthy_meal'].fillna('Sem resposta', inplace = True)"
   ]
  },
  {
   "cell_type": "markdown",
   "metadata": {},
   "source": [
    "### Ajuste do atributo: ideal_diet\n",
    "\n",
    "estratégia utilizada:\n",
    "\n",
    "trocar todas as ocorrências de 'none' por numpy.nan e, posteriormente, aplicar um valor padrão para evitar a perda de dados."
   ]
  },
  {
   "cell_type": "code",
   "execution_count": null,
   "metadata": {},
   "outputs": [],
   "source": [
    "dataframe['ideal_diet'] = dataframe['ideal_diet'].replace('none|None.|None', numpy.nan, regex = True)\n",
    "dataframe['ideal_diet'].fillna('Sem resposta', inplace = True)"
   ]
  },
  {
   "cell_type": "markdown",
   "metadata": {},
   "source": [
    "### Ajuste do atributo: income\n",
    "\n",
    "estratégia utilizada:\n",
    "\n",
    "conversão para inteiro, para poupar armazenamento.\n",
    "\n",
    "imputação por média dos valores objetos da mesma classe, pois, por ser um atributo numérico discreto, quase não considera-se possíveis outliers.\n",
    "\n",
    "escolha incentivada também pela visão completa dos conjunto de dados e pela relativa grande extensão das possibilidades de atributos.\n",
    "\n"
   ]
  },
  {
   "cell_type": "code",
   "execution_count": null,
   "metadata": {},
   "outputs": [],
   "source": [
    "dataframe['income'] = dataframe['income'].apply(parse_int)\n",
    "dataframe['income'].fillna(dataframe['income'].mean(), inplace = True)"
   ]
  },
  {
   "cell_type": "markdown",
   "metadata": {},
   "source": [
    "### Ajuste do atributo: life_rewarding\n",
    "\n",
    "estratégia utilizada:\n",
    "\n",
    "conversão para inteiro, para poupar armazenamento.\n",
    "\n",
    "imputação por média dos valores objetos da mesma classe, pois, por ser um atributo numérico discreto, quase não considera-se possíveis outliers.\n",
    "\n",
    "escolha incentivada também pela visão completa dos conjunto de dados e pela relativa grande extensão das possibilidades de atributos.\n",
    "\n"
   ]
  },
  {
   "cell_type": "code",
   "execution_count": null,
   "metadata": {},
   "outputs": [],
   "source": [
    "dataframe['life_rewarding'] = dataframe['life_rewarding'].apply(parse_int)\n",
    "dataframe['life_rewarding'].fillna(dataframe['life_rewarding'].mean(), inplace = True)"
   ]
  },
  {
   "cell_type": "markdown",
   "metadata": {},
   "source": [
    "### Ajuste do atributo: marital_status\n",
    "\n",
    "estratégia utilizada:\n",
    "\n",
    "conversão para inteiro, para poupar armazenamento.\n",
    "\n",
    "imputação por média dos valores objetos da mesma classe, pois, por ser um atributo numérico discreto, quase não considera-se possíveis outliers.\n",
    "\n",
    "escolha incentivada também pela visão completa dos conjunto de dados e pela relativa grande extensão das possibilidades de atributos.\n",
    "\n"
   ]
  },
  {
   "cell_type": "code",
   "execution_count": null,
   "metadata": {},
   "outputs": [],
   "source": [
    "dataframe['marital_status'] = dataframe['marital_status'].apply(parse_int)\n",
    "dataframe['marital_status'].fillna(dataframe['marital_status'].mean(), inplace = True)"
   ]
  },
  {
   "cell_type": "markdown",
   "metadata": {},
   "source": [
    "### Ajuste do atributo: meals_dinner_friend\n",
    "\n",
    "estratégia utilizada:\n",
    "\n",
    "trocar todas as ocorrências de 'none' por numpy.nan e, posteriormente, aplicar um valor padrão para evitar a perda de dados."
   ]
  },
  {
   "cell_type": "code",
   "execution_count": null,
   "metadata": {},
   "outputs": [],
   "source": [
    "dataframe['meals_dinner_friend'] = dataframe['meals_dinner_friend'].replace('none|None.|None', numpy.nan, regex = True)\n",
    "dataframe['meals_dinner_friend'].fillna('Sem resposta', inplace = True)"
   ]
  },
  {
   "cell_type": "markdown",
   "metadata": {},
   "source": [
    "### Ajuste do atributo: mother_education\n",
    "\n",
    "estratégia utilizada:\n",
    "\n",
    "conversão para inteiro, para poupar armazenamento.\n",
    "\n",
    "imputação por média dos valores objetos da mesma classe, pois, por ser um atributo numérico discreto, quase não considera-se possíveis outliers.\n",
    "\n",
    "escolha incentivada também pela visão completa dos conjunto de dados e pela relativa grande extensão das possibilidades de atributos.\n",
    "\n",
    "\n"
   ]
  },
  {
   "cell_type": "code",
   "execution_count": null,
   "metadata": {},
   "outputs": [],
   "source": [
    "dataframe['mother_education'] = dataframe['mother_education'].apply(parse_int)\n",
    "dataframe['mother_education'].fillna(dataframe['mother_education'].mean(), inplace = True)"
   ]
  },
  {
   "cell_type": "markdown",
   "metadata": {},
   "source": [
    "### Ajuste do atributo: mother_profession\n",
    "\n",
    "estratégia utilizada:\n",
    "\n",
    "trocar todas as ocorrências de 'none' por numpy.nan e, posteriormente, aplicar um valor padrão para evitar a perda de dados."
   ]
  },
  {
   "cell_type": "code",
   "execution_count": null,
   "metadata": {},
   "outputs": [],
   "source": [
    "dataframe['mother_profession'] = dataframe['mother_profession'].replace('none|None.|None', numpy.nan, regex = True)\n",
    "dataframe['mother_profession'].fillna('Sem resposta', inplace = True)"
   ]
  },
  {
   "cell_type": "markdown",
   "metadata": {},
   "source": [
    "### Ajuste do atributo: on_off_campus\n",
    "\n",
    "estratégia utilizada:\n",
    "\n",
    "conversão para inteiro, para poupar armazenamento.\n",
    "\n",
    "imputação por média dos valores objetos da mesma classe, pois, por ser um atributo numérico discreto, quase não considera-se possíveis outliers.\n",
    "\n",
    "escolha incentivada também pela visão completa dos conjunto de dados e pela relativa grande extensão das possibilidades de atributos.\n",
    "\n"
   ]
  },
  {
   "cell_type": "code",
   "execution_count": null,
   "metadata": {},
   "outputs": [],
   "source": [
    "dataframe['on_off_campus'] = dataframe['on_off_campus'].apply(parse_int)\n",
    "dataframe['on_off_campus'].fillna(dataframe['on_off_campus'].mean(), inplace = True)"
   ]
  },
  {
   "cell_type": "markdown",
   "metadata": {},
   "source": [
    "### Ajuste do atributo: persian_food\n",
    "\n",
    "estratégia utilizada:\n",
    "\n",
    "conversão para inteiro, para poupar armazenamento.\n",
    "\n",
    "imputação por média dos valores objetos da mesma classe, pois, por ser um atributo numérico discreto, quase não considera-se possíveis outliers.\n",
    "\n",
    "escolha incentivada também pela visão completa dos conjunto de dados e pela relativa grande extensão das possibilidades de atributos.\n",
    "\n"
   ]
  },
  {
   "cell_type": "code",
   "execution_count": null,
   "metadata": {},
   "outputs": [],
   "source": [
    "dataframe['persian_food'] = dataframe['persian_food'].apply(parse_int)\n",
    "dataframe['persian_food'].fillna(dataframe['persian_food'].mean(), inplace = True)"
   ]
  },
  {
   "cell_type": "markdown",
   "metadata": {},
   "source": [
    "### Ajuste do atributo: self_perception_weight\n",
    "\n",
    "estratégia utilizada:\n",
    "\n",
    "conversão para inteiro, para poupar armazenamento.\n",
    "\n",
    "imputação por média dos valores objetos da mesma classe, pois, por ser um atributo numérico discreto, quase não considera-se possíveis outliers.\n",
    "\n",
    "escolha incentivada também pela visão completa dos conjunto de dados e pela relativa grande extensão das possibilidades de atributos.\n",
    "\n"
   ]
  },
  {
   "cell_type": "code",
   "execution_count": null,
   "metadata": {},
   "outputs": [],
   "source": [
    "dataframe['self_perception_weight'] = dataframe['self_perception_weight'].apply(parse_int)\n",
    "dataframe['self_perception_weight'].fillna(dataframe['self_perception_weight'].mean(), inplace = True)"
   ]
  },
  {
   "cell_type": "markdown",
   "metadata": {},
   "source": [
    "### Ajuste do atributo: soup\n",
    "\n",
    "estratégia utilizada:\n",
    "\n",
    "conversão para inteiro, para poupar armazenamento.\n",
    "\n",
    "imputação por moda dos valores objetos da mesma classe, pois possui pouca variedade de respostas.\n"
   ]
  },
  {
   "cell_type": "code",
   "execution_count": null,
   "metadata": {},
   "outputs": [],
   "source": [
    "dataframe['soup'] = dataframe['soup'].apply(parse_int)\n",
    "dataframe['soup'].fillna(dataframe['soup'].mode()[0], inplace = True)"
   ]
  },
  {
   "cell_type": "markdown",
   "metadata": {},
   "source": [
    "### Ajuste do atributo: sports\n",
    "\n",
    "estratégia utilizada:\n",
    "\n",
    "conversão para inteiro, para poupar armazenamento.\n",
    "\n",
    "imputação por mediana dos valores objetos da mesma classe para não ter alterações por outliers."
   ]
  },
  {
   "cell_type": "code",
   "execution_count": null,
   "metadata": {},
   "outputs": [],
   "source": [
    "dataframe['sports'].fillna(dataframe['sports'].mean(), inplace = True)\n",
    "dataframe['sports'] = dataframe['sports'].apply(parse_int)\n",
    "dataframe['sports']"
   ]
  },
  {
   "cell_type": "markdown",
   "metadata": {},
   "source": [
    "### Ajuste do atributo: tortilla_calories\n",
    "\n",
    "estratégia utilizada:\n",
    "\n",
    "conversão para inteiro, para poupar armazenamento.\n",
    "\n",
    "imputação por média dos valores objetos da mesma classe, pois, por ser um atributo numérico discreto, quase não considera-se possíveis outliers.\n",
    "\n",
    "escolha incentivada também pela visão completa dos conjunto de dados e pela relativa grande extensão das possibilidades de atributos.\n",
    "\n"
   ]
  },
  {
   "cell_type": "code",
   "execution_count": null,
   "metadata": {},
   "outputs": [],
   "source": [
    "dataframe['tortilla_calories'] = dataframe['tortilla_calories'].apply(parse_int)\n",
    "dataframe['tortilla_calories'].fillna(dataframe['tortilla_calories'].mean(), inplace = True)"
   ]
  },
  {
   "cell_type": "markdown",
   "metadata": {},
   "source": [
    "### Ajuste do atributo: type_sports\n",
    "\n",
    "estratégia utilizada:\n",
    "\n",
    "trocar todas as ocorrências de 'none' por numpy.nan e, posteriormente, aplicar um valor padrão para evitar a perda de dados."
   ]
  },
  {
   "cell_type": "code",
   "execution_count": null,
   "metadata": {},
   "outputs": [],
   "source": [
    "dataframe['type_sports'] = dataframe['type_sports'].replace('none|None.|None', numpy.nan, regex = True)\n",
    "dataframe['type_sports'].fillna('Sem resposta', inplace = True)"
   ]
  },
  {
   "cell_type": "markdown",
   "metadata": {},
   "source": [
    "### Ajuste do atributo: weight\n",
    "\n",
    "estratégia utilizada:\n",
    "\n",
    "imputação por mediana dos valores objetos da mesma classe para não ter alterações por possíveis outliers, já que é um atributo numérico contínuo."
   ]
  },
  {
   "cell_type": "code",
   "execution_count": null,
   "metadata": {},
   "outputs": [],
   "source": [
    "dataframe['weight'] = dataframe['weight'].apply(parse_int)\n",
    "dataframe['weight'].fillna(dataframe['weight'].median(), inplace = True)\n",
    "dataframe['calories_chicken']"
   ]
  },
  {
   "cell_type": "markdown",
   "metadata": {},
   "source": [
    "#\n",
    "#\n",
    "#"
   ]
  },
  {
   "cell_type": "markdown",
   "metadata": {
    "jp-MarkdownHeadingCollapsed": true
   },
   "source": [
    "### 3. Identificação das inconsistências específicas no conjunto de dados."
   ]
  },
  {
   "cell_type": "markdown",
   "metadata": {},
   "source": [
    "###  Coluna calories_scone\n",
    "\n",
    "esperado os seguintes valores de 1, 2, 3 e 4, e não 107, 315, 420, 980, respectivamente.\n",
    "\n"
   ]
  },
  {
   "cell_type": "markdown",
   "metadata": {},
   "source": [
    "###  Coluna tortilla_calories\n",
    "\n",
    "esperado os seguintes valores de 1, 2, 3 e 4, e não 580, 725, 940, 1165, respectivamente.\n"
   ]
  },
  {
   "cell_type": "markdown",
   "metadata": {},
   "source": [
    "###  Coluna turkey_calories\n",
    "\n",
    "esperado os seguintes valores de 1, 2, 3 e 4, e não 345, 500, 690, 850, respectivamente.\n"
   ]
  },
  {
   "cell_type": "markdown",
   "metadata": {},
   "source": [
    "###  Coluna waffle_calories\n",
    "\n",
    "esperado os seguintes valores de 1, 2, 3 e 4, e não 575, 760, 900, 1315, respectivamente.\n"
   ]
  },
  {
   "cell_type": "markdown",
   "metadata": {},
   "source": [
    "###  Coluna calories_chicken\n",
    "\n",
    "esperado os seguintes valores de 1, 2, 3 e 4, e não 265, 430, 610, 720, respectivamente.\n",
    "#\n",
    "#\n",
    "#\n",
    "\n",
    "\n"
   ]
  },
  {
   "cell_type": "markdown",
   "metadata": {
    "jp-MarkdownHeadingCollapsed": true
   },
   "source": [
    "### 4. Desenvolvolvimento de um plano de ação para lidar com cada tipo de inconsistência\n",
    "#\n",
    "#\n",
    "#"
   ]
  },
  {
   "cell_type": "markdown",
   "metadata": {},
   "source": [
    "O plano de ação que será desenvolvido é a correção dos valores para o domínio definido no documento 'codebook_food.docx'."
   ]
  },
  {
   "cell_type": "markdown",
   "metadata": {
    "jp-MarkdownHeadingCollapsed": true
   },
   "source": [
    "### 5. Aplicação das estratégias e o plano de ação escolhidos para preencher ou remover os dados faltantes e limpar os dados inconsistentes.\n",
    "#\n",
    "#\n",
    "#"
   ]
  },
  {
   "cell_type": "markdown",
   "metadata": {
    "jp-MarkdownHeadingCollapsed": true
   },
   "source": [
    "### Coluna calories_scone\n",
    "\n",
    "Alterando os valores respectivos para o domínio especificado no documento 'codebook_food.docx'.\n",
    "\n",
    "Imputando o valores nulificados com a média aritmética, justificada pela sua visão completa do conjunto de dados e pela sua natureza de atributo numérico discreto,\n",
    "o qual tem domínio restrito, ou seja, é improvável que haja outliers para enviesar o valor calculado.\n",
    "\n",
    "Os dados convertidos e preenchidos estavam na codificação 'float64', a conversão para inteiro foi necessária para a minimização do custo computacional.\n"
   ]
  },
  {
   "cell_type": "code",
   "execution_count": null,
   "metadata": {},
   "outputs": [],
   "source": [
    "dataframe['calories_scone'] = dataframe['calories_scone'].apply(to_calories_scone)\n",
    "dataframe['calories_scone'].fillna(dataframe['calories_scone'].mean(), inplace = True)\n",
    "dataframe['calories_scone'] = dataframe['calories_scone'].apply(parse_int)"
   ]
  },
  {
   "cell_type": "markdown",
   "metadata": {},
   "source": [
    "### Coluna tortilla_calories\n",
    "\n",
    "Alterando os valores respectivos para o domínio especificado no documento 'codebook_food.docx'.\n",
    "\n",
    "Imputando o valores nulificados com a média aritmética, justificada pela sua visão completa do conjunto de dados e pela sua natureza de atributo numérico discreto,\n",
    "o qual tem domínio restrito, ou seja, é improvável que haja outliers para enviesar o valor calculado.\n",
    "\n",
    "Os dados convertidos e preenchidos estavam na codificação 'float64', a conversão para inteiro foi necessária para a minimização do custo computacional.\n"
   ]
  },
  {
   "cell_type": "code",
   "execution_count": null,
   "metadata": {},
   "outputs": [],
   "source": [
    "dataframe['tortilla_calories'] = dataframe['tortilla_calories'].apply(to_tortilla_calories)\n",
    "dataframe['tortilla_calories'].fillna(dataframe['tortilla_calories'].mean(), inplace = True)\n",
    "dataframe['tortilla_calories'] = dataframe['tortilla_calories'].apply(parse_int)"
   ]
  },
  {
   "cell_type": "markdown",
   "metadata": {},
   "source": [
    "### Coluna waffle_calories\n",
    "\n",
    "Alterando os valores respectivos para o domínio especificado no documento 'codebook_food.docx'.\n",
    "\n",
    "Imputando o valores nulificados com a média aritmética, justificada pela sua visão completa do conjunto de dados e pela sua natureza de atributo numérico discreto,\n",
    "o qual tem domínio restrito, ou seja, é improvável que haja outliers para enviesar o valor calculado.\n",
    "\n",
    "Os dados convertidos e preenchidos estavam na codificação 'float64', a conversão para inteiro foi necessária para a minimização do custo computacional."
   ]
  },
  {
   "cell_type": "code",
   "execution_count": null,
   "metadata": {},
   "outputs": [],
   "source": [
    "dataframe['waffle_calories'] = dataframe['waffle_calories'].apply(to_waffle_calories)\n",
    "dataframe['waffle_calories'].fillna(dataframe['waffle_calories'].mean(), inplace = True)\n",
    "dataframe['waffle_calories'] = dataframe['waffle_calories'].apply(parse_int)"
   ]
  },
  {
   "cell_type": "markdown",
   "metadata": {},
   "source": [
    "### Coluna calories_chicken\n",
    "\n",
    "Alterando os valores respectivos para o domínio especificado no documento 'codebook_food.docx'.\n",
    "\n",
    "Imputando o valores nulificados com a média aritmética, justificada pela sua visão completa do conjunto de dados e pela sua natureza de atributo numérico discreto,\n",
    "o qual tem domínio restrito, ou seja, é improvável que haja outliers para enviesar o valor calculado.\n",
    "\n",
    "Os dados convertidos e preenchidos estavam na codificação 'float64', a conversão para inteiro foi necessária para a minimização do custo computacional."
   ]
  },
  {
   "cell_type": "code",
   "execution_count": null,
   "metadata": {},
   "outputs": [],
   "source": [
    "dataframe['calories_chicken'] = dataframe['calories_chicken'].apply(to_calories_chicken)\n",
    "dataframe['calories_chicken'].fillna(dataframe['calories_chicken'].mean(), inplace = True)\n",
    "dataframe['calories_chicken'] = dataframe['calories_chicken'].apply(parse_int)"
   ]
  }
 ],
 "metadata": {
  "kernelspec": {
   "display_name": "Python 3 (ipykernel)",
   "language": "python",
   "name": "python3"
  },
  "language_info": {
   "codemirror_mode": {
    "name": "ipython",
    "version": 3
   },
   "file_extension": ".py",
   "mimetype": "text/x-python",
   "name": "python",
   "nbconvert_exporter": "python",
   "pygments_lexer": "ipython3",
   "version": "3.10.12"
  }
 },
 "nbformat": 4,
 "nbformat_minor": 4
}
